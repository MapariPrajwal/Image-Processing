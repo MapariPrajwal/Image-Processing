{
  "nbformat": 4,
  "nbformat_minor": 0,
  "metadata": {
    "colab": {
      "provenance": [],
      "authorship_tag": "ABX9TyPo5gP1g+lfvrC5GZqkOqXo",
      "include_colab_link": true
    },
    "kernelspec": {
      "name": "python3",
      "display_name": "Python 3"
    },
    "language_info": {
      "name": "python"
    }
  },
  "cells": [
    {
      "cell_type": "markdown",
      "metadata": {
        "id": "view-in-github",
        "colab_type": "text"
      },
      "source": [
        "<a href=\"https://colab.research.google.com/github/MapariPrajwal/Image-Processing/blob/main/Image_Compression.ipynb\" target=\"_parent\"><img src=\"https://colab.research.google.com/assets/colab-badge.svg\" alt=\"Open In Colab\"/></a>"
      ]
    },
    {
      "cell_type": "code",
      "execution_count": null,
      "metadata": {
        "colab": {
          "base_uri": "https://localhost:8080/"
        },
        "id": "rZ3K3uwpEWJH",
        "outputId": "60b85950-276f-45bd-f5f9-8c25c533bd85"
      },
      "outputs": [
        {
          "output_type": "stream",
          "name": "stdout",
          "text": [
            "Image compression using RLE completed.\n",
            "Image decompression using RLE completed.\n"
          ]
        }
      ],
      "source": [
        "from PIL import Image\n",
        "\n",
        "def encode_rle(image_path, output_path):\n",
        "    # Open the image\n",
        "    image = Image.open(image_path)\n",
        "\n",
        "    # Get image data as a list of RGB tuples\n",
        "    pixels = list(image.getdata())\n",
        "\n",
        "    # Initialize an empty list to store the encoded data\n",
        "    encoded_data = []\n",
        "\n",
        "    # Encode the RLE\n",
        "    count = 1\n",
        "    for i in range(1, len(pixels)):\n",
        "        if pixels[i] == pixels[i - 1]:\n",
        "            count += 1\n",
        "        else:\n",
        "            encoded_data.append((pixels[i - 1], count))\n",
        "            count = 1\n",
        "\n",
        "    # Append the last run\n",
        "    encoded_data.append((pixels[-1], count))\n",
        "\n",
        "    # Save the encoded data to a file\n",
        "    with open(output_path, 'w') as file:\n",
        "        for entry in encoded_data:\n",
        "            r, g, b = entry[0]\n",
        "            file.write(f'{r},{g},{b}:{entry[1]}\\n')\n",
        "\n",
        "    print(\"Image compression using RLE completed.\")\n",
        "\n",
        "def decode_rle(encoded_path, output_path):\n",
        "    # Read the encoded data from the file\n",
        "    with open(encoded_path, 'r') as file:\n",
        "        encoded_data = [line.strip().split(':') for line in file]\n",
        "\n",
        "    # Decode the RLE\n",
        "    decoded_data = [(tuple(map(int, rgb.split(','))), int(count)) for rgb, count in encoded_data]\n",
        "\n",
        "    # Flatten the decoded data\n",
        "    flat_data = [(r, g, b) for (r, g, b), count in decoded_data for _ in range(count)]\n",
        "\n",
        "    # Get the image size from the original image\n",
        "    width, height = Image.open(encoded_path.replace('encoded_rle.txt', 'VIIT_Logo.png')).size\n",
        "\n",
        "    # Create an image from the flattened decoded data\n",
        "    decoded_image = Image.new('RGB', (width, height))\n",
        "    decoded_image.putdata(flat_data)\n",
        "\n",
        "    # Save the decoded image\n",
        "    decoded_image.save(output_path)\n",
        "\n",
        "    print(\"Image decompression using RLE completed.\")\n",
        "\n",
        "# Example usage\n",
        "input_image_path = '/content/VIIT_Logo.png'\n",
        "encoded_file_path = '/content/encoded_rle.txt'\n",
        "decoded_image_path = '/content/decoded_rle.png'\n",
        "\n",
        "# Encode the image using RLE\n",
        "encode_rle(input_image_path, encoded_file_path)\n",
        "\n",
        "# Decode the RLE-encoded file\n",
        "decode_rle(encoded_file_path, decoded_image_path)\n"
      ]
    },
    {
      "cell_type": "code",
      "source": [],
      "metadata": {
        "id": "dMKC2YwwGwm_"
      },
      "execution_count": null,
      "outputs": []
    }
  ]
}