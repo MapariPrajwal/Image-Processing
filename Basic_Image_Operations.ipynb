{
  "nbformat": 4,
  "nbformat_minor": 0,
  "metadata": {
    "colab": {
      "provenance": [],
      "authorship_tag": "ABX9TyNkPu+6XUSqKxjy5indIvx1",
      "include_colab_link": true
    },
    "kernelspec": {
      "name": "python3",
      "display_name": "Python 3"
    },
    "language_info": {
      "name": "python"
    }
  },
  "cells": [
    {
      "cell_type": "markdown",
      "metadata": {
        "id": "view-in-github",
        "colab_type": "text"
      },
      "source": [
        "<a href=\"https://colab.research.google.com/github/MapariPrajwal/Image-Processing/blob/main/Basic_Image_Operations.ipynb\" target=\"_parent\"><img src=\"https://colab.research.google.com/assets/colab-badge.svg\" alt=\"Open In Colab\"/></a>"
      ]
    },
    {
      "cell_type": "code",
      "execution_count": null,
      "metadata": {
        "id": "X06Sw_DLQcgI"
      },
      "outputs": [],
      "source": [
        "import cv2"
      ]
    },
    {
      "cell_type": "code",
      "source": [
        "width=100\n",
        "height=100\n",
        "img=cv2.imread(r'/content/WIN_20220920_15_57_01_Pro.jpg')"
      ],
      "metadata": {
        "id": "1tGUPVGOVGnv"
      },
      "execution_count": null,
      "outputs": []
    },
    {
      "cell_type": "code",
      "source": [
        "resize_image=cv2.resize(img,(int(width),int(height)))"
      ],
      "metadata": {
        "id": "tf3GPQV7VG00"
      },
      "execution_count": null,
      "outputs": []
    },
    {
      "cell_type": "code",
      "source": [
        "inverted_image=cv2.bitwise_not(img)"
      ],
      "metadata": {
        "id": "NR5U_OiaVHAC"
      },
      "execution_count": null,
      "outputs": []
    },
    {
      "cell_type": "code",
      "source": [
        "cropped_image=img[200:500,200:500]"
      ],
      "metadata": {
        "id": "Zrns9-d0SQB7"
      },
      "execution_count": null,
      "outputs": []
    },
    {
      "cell_type": "code",
      "source": [
        "cv2.imwrite('resize_image.jpg',resize_image)\n",
        "cv2.imwrite('inverted_image.jpg',inverted_image)\n",
        "cv2.imwrite('cropped_image.jpg',cropped_image)"
      ],
      "metadata": {
        "colab": {
          "base_uri": "https://localhost:8080/"
        },
        "id": "GDZDYJGlVXy1",
        "outputId": "716051d6-792b-4ee8-9b15-b82527f9ef85"
      },
      "execution_count": null,
      "outputs": [
        {
          "output_type": "execute_result",
          "data": {
            "text/plain": [
              "True"
            ]
          },
          "metadata": {},
          "execution_count": 11
        }
      ]
    }
  ]
}