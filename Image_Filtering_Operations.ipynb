{
  "nbformat": 4,
  "nbformat_minor": 0,
  "metadata": {
    "colab": {
      "provenance": [],
      "authorship_tag": "ABX9TyMlqAi+hrAOL61LKMbSvq+L",
      "include_colab_link": true
    },
    "kernelspec": {
      "name": "python3",
      "display_name": "Python 3"
    },
    "language_info": {
      "name": "python"
    }
  },
  "cells": [
    {
      "cell_type": "markdown",
      "metadata": {
        "id": "view-in-github",
        "colab_type": "text"
      },
      "source": [
        "<a href=\"https://colab.research.google.com/github/MapariPrajwal/Image-Processing/blob/main/Image_Filtering_Operations.ipynb\" target=\"_parent\"><img src=\"https://colab.research.google.com/assets/colab-badge.svg\" alt=\"Open In Colab\"/></a>"
      ]
    },
    {
      "cell_type": "code",
      "execution_count": null,
      "metadata": {
        "id": "M1X_DrXoHsff"
      },
      "outputs": [],
      "source": [
        "import cv2\n",
        "import numpy as np"
      ]
    },
    {
      "cell_type": "code",
      "source": [
        "img=cv2.imread(\"/content/WIN_20220920_15_57_01_Pro.jpg\",cv2.IMREAD_UNCHANGED)"
      ],
      "metadata": {
        "id": "6rZStUJkH2IG"
      },
      "execution_count": null,
      "outputs": []
    },
    {
      "cell_type": "code",
      "source": [
        "GuassBlur=cv2.GaussianBlur(img,(5,5),cv2.BORDER_DEFAULT)"
      ],
      "metadata": {
        "id": "zIezmah3IEgS"
      },
      "execution_count": null,
      "outputs": []
    },
    {
      "cell_type": "code",
      "source": [
        "cv2.imwrite(\"Gaussian.jpg\",GuassBlur)"
      ],
      "metadata": {
        "colab": {
          "base_uri": "https://localhost:8080/"
        },
        "id": "M3Hu7jUxJExx",
        "outputId": "7d5235c8-1bdf-4e36-c388-1acc414cbb27"
      },
      "execution_count": null,
      "outputs": [
        {
          "output_type": "execute_result",
          "data": {
            "text/plain": [
              "True"
            ]
          },
          "metadata": {},
          "execution_count": 12
        }
      ]
    },
    {
      "cell_type": "code",
      "source": [
        "# Mean Blur\n",
        "MeanBlur=cv2.blur(img,(5,5))"
      ],
      "metadata": {
        "id": "zGy3cOpZPfjb"
      },
      "execution_count": null,
      "outputs": []
    },
    {
      "cell_type": "code",
      "source": [
        "cv2.imwrite('Mean.jpg',MeanBlur)"
      ],
      "metadata": {
        "colab": {
          "base_uri": "https://localhost:8080/"
        },
        "id": "6pK1ls1IPp3t",
        "outputId": "274a2d52-2998-4195-868c-8a30071da201"
      },
      "execution_count": null,
      "outputs": [
        {
          "output_type": "execute_result",
          "data": {
            "text/plain": [
              "True"
            ]
          },
          "metadata": {},
          "execution_count": 21
        }
      ]
    },
    {
      "cell_type": "code",
      "source": [
        "# Median Blur\n",
        "MedianBlur = cv2.medianBlur(img, 5)"
      ],
      "metadata": {
        "id": "jLoa317sMEUT"
      },
      "execution_count": null,
      "outputs": []
    },
    {
      "cell_type": "code",
      "source": [
        "cv2.imwrite('Median.jpg', MedianBlur)"
      ],
      "metadata": {
        "colab": {
          "base_uri": "https://localhost:8080/"
        },
        "id": "Sl__QmcONJFO",
        "outputId": "721c93de-87b2-4562-fe60-cadee57a9181"
      },
      "execution_count": null,
      "outputs": [
        {
          "output_type": "execute_result",
          "data": {
            "text/plain": [
              "True"
            ]
          },
          "metadata": {},
          "execution_count": 14
        }
      ]
    },
    {
      "cell_type": "code",
      "source": [
        "# Bilateral Blur\n",
        "BilateralBlur = cv2.bilateralFilter(img, 9, 75, 75)"
      ],
      "metadata": {
        "id": "T5ysAocNNSMm"
      },
      "execution_count": null,
      "outputs": []
    },
    {
      "cell_type": "code",
      "source": [
        "cv2.imwrite('Bilateral.jpg',BilateralBlur)"
      ],
      "metadata": {
        "colab": {
          "base_uri": "https://localhost:8080/"
        },
        "id": "KC5clwhRNhhm",
        "outputId": "d747ebad-9655-4789-c8c9-eb3ad1dca904"
      },
      "execution_count": null,
      "outputs": [
        {
          "output_type": "execute_result",
          "data": {
            "text/plain": [
              "True"
            ]
          },
          "metadata": {},
          "execution_count": 17
        }
      ]
    }
  ]
}